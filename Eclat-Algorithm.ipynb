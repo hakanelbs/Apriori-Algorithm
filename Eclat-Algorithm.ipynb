{
 "cells": [
  {
   "cell_type": "code",
   "execution_count": null,
   "metadata": {},
   "outputs": [],
   "source": [
    "from itertools import combinations \n",
    "\n",
    "import pandas as pd\n",
    "import itertools\n",
    "import numpy as np"
   ]
  },
  {
   "cell_type": "code",
   "execution_count": 5,
   "metadata": {},
   "outputs": [],
   "source": [
    "np.random.seed(1)\n",
    "kot = 0\n",
    "sıkUrun = dict()\n",
    "support = dict()\n",
    "\n",
    "def sıkUrunCıktı(sıkUrunTxt, sıkUrun):\n",
    "    file = open(sıkUrunTxt, 'w+')\n",
    "    for item, support in sıkUrun.items():\n",
    "        file.write(\" {} : {} \\n\".format(list(item), round(support,4)))"
   ]
  },
  {
   "cell_type": "code",
   "execution_count": 6,
   "metadata": {},
   "outputs": [],
   "source": [
    "def eclat(gecici, items, anaSayac):\n",
    "    while items:\n",
    "        i,ix = items.pop()\n",
    "        isupp = len(ix)\n",
    "        if isupp >= minsup:\n",
    "\n",
    "            sıkUrun[frozenset(gecici + [i])] = isupp\n",
    "            topKesisen = []\n",
    "            for j, jx in items:\n",
    "                kesisenFis = ix & jx\n",
    "                if len(kesisenFis) >= minsup:\n",
    "                    topKesisen.append((j,kesisenFis))\n",
    "\n",
    "            anaSayac += 1\n",
    "            eclat(gecici+[i], sorted(topKesisen, key=lambda ürün: len(ürün[1]), reverse=True), anaSayac)"
   ]
  },
  {
   "cell_type": "code",
   "execution_count": 7,
   "metadata": {},
   "outputs": [],
   "source": [
    "def veriOkuyucu(filename, delimiter=','):\n",
    "    data = {}\n",
    "    sayac = 0\n",
    "    f = open(filename, 'r', encoding=\"utf8\")\n",
    "    for satır in f:\n",
    "        sayac += 1\n",
    "        for ürün in satır.split(delimiter):\n",
    "            if ürün not in data:\n",
    "                data[ürün] = set()\n",
    "            data[ürün].add(sayac)\n",
    "    \n",
    "    return data"
   ]
  },
  {
   "cell_type": "code",
   "execution_count": null,
   "metadata": {},
   "outputs": [],
   "source": [
    "if _name_ == \"__main__\":\n",
    "    print(\"Depth Search Ürün Bulma Algoritması\")\n",
    "    minsup   = int(input(\"Minsup Değerini Giriniz... : \"))   \n",
    "    data = veriOkuyucu('sepet.csv', ',') # ürünleriniz csv formatında olmalı\n",
    "    anaSayac = 0\n",
    "    eclat([], sorted(data.items(), key=lambda ürün: len(ürün[1]), reverse=True), anaSayac)\n",
    "    print('Bulunan Sık Ürünlerin Sayısı :  %d ' % len(sıkUrun))\n",
    "    print(\"Bulunan Ürünler \" +sıkUrunTxt  +\" Yazıldı\")\n",
    "    sıkUrunTxt = 'ÇıktıDepth.csv'\n",
    "\n",
    "    sıkUrunCıktı(sıkUrunTxt, sıkUrun)"
   ]
  }
 ],
 "metadata": {
  "kernelspec": {
   "display_name": "Python 3",
   "language": "python",
   "name": "python3"
  },
  "language_info": {
   "codemirror_mode": {
    "name": "ipython",
    "version": 3
   },
   "file_extension": ".py",
   "mimetype": "text/x-python",
   "name": "python",
   "nbconvert_exporter": "python",
   "pygments_lexer": "ipython3",
   "version": "3.7.4"
  }
 },
 "nbformat": 4,
 "nbformat_minor": 2
}
